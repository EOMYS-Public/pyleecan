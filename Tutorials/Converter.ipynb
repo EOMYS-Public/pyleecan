{
 "cells": [
  {
   "cell_type": "markdown",
   "id": "1c52274e-e36a-4642-8dca-a4b8b81a8333",
   "metadata": {},
   "source": [
    "# Converter"
   ]
  },
  {
   "cell_type": "markdown",
   "id": "1656bb14-16c4-4a2f-934a-526a84bf02a1",
   "metadata": {},
   "source": [
    "This tutorial shows the way to call converter, and in a second part we explain this architecture. <br>\n",
    "So, with this converter you can convert **motor IPMSM and SPMSM** for the moment with all slot, hole, notch, duct present in pyleecan. Just the **geometrical conversion** is present. <br>\n",
    "This converter is between Motor-CAD and Pyleecan but the architecture is create to be reuse if you want an other converter.<br>\n",
    "below is the code to call the converter :"
   ]
  },
  {
   "cell_type": "markdown",
   "id": "fb0b20c5",
   "metadata": {},
   "source": [
    "```python\n",
    "from pyleecan.Classes.ConvertMC import ConvertMC\n",
    "path = \"path/to/mot.mot\"\n",
    "conv = ConvertMC()\n",
    "machine = conv.convert_to_P(path)\n",
    "other_dict = conv.convert_to_other(machine)\n",
    "```\n",
    "This code block is equivalente to:\n",
    "- select your file.mot\n",
    "- select class of converter\n",
    "- select the direction of conversion\n",
    "- to convert a file .mot in object machine  \n",
    "- to convert a object machine in dict with setting use in Motor_cad "
   ]
  },
  {
   "cell_type": "markdown",
   "id": "c95a4937-f37b-44a1-add0-9a50819417d7",
   "metadata": {},
   "source": [
    "This converter could propose a reversibility, but attention the reversibility is not perfect. In fact, we don't know the fonctionnement of Motor-CAD, that is why, we return a dictionnary with all equivalent parameter between Motor-CAD and Pyleecan present in a file.mot "
   ]
  },
  {
   "cell_type": "markdown",
   "id": "d93df52f-92dd-4cbb-90c4-8d4aff140d76",
   "metadata": {},
   "source": [
    "If you want to find equivalent, approximation or error you have a file Pyleecan.log. In this file you have big step to example equivalent between parallel_slot and slotW21. Or if you have an error or approximation in conversion. <br>"
   ]
  },
  {
   "cell_type": "markdown",
   "id": "59cd9a7a",
   "metadata": {},
   "source": [
    "Ex log : <br>\n",
    "2023-12-13 10:42:50-   INFO: Pyleecan version : 1.5.2 [Pyleecan] <br>\n",
    "2023-12-13 10:42:50-   INFO: Path file use to convert : /Users\\LAP17\\Documents/machine_MC_P/file_mot/WRSM_salient_pole.mot [Pyleecan]<br>\n",
    "2023-12-13 10:42:50-   INFO: Conversion file .mot into dict [Pyleecan]<br>\n",
    "2023-12-13 10:42:50-   INFO: Conversion dict into obj machine [Pyleecan]<br>\n",
    "2023-12-13 10:42:50-   INFO: Conversion SYNC into MachineWRSM [Pyleecan]<br>\n",
    "2023-12-13 10:42:50-   INFO: Conversion Parallel_Tooth into SlotW11 [Pyleecan]<br>\n",
    "2023-12-13 10:42:50-   INFO: Conversion AWG_Table into CondType12 [Pyleecan]<br>\n",
    "2023-12-13 10:42:50-   INFO: Conversion Sync_Salient_Pole into SlotW62 [Pyleecan]<br>\n",
    "2023-12-13 10:42:50-  DEBUG: No duct to convert at Rotor [Pyleecan]<br>\n",
    "2023-12-13 10:42:50-   INFO: Conversion AWG_Table into CondType12 [Pyleecan]<br>\n",
    "2023-12-13 10:42:50-   INFO: skew, not implemented [Pyleecan]<br>\n",
    "2023-12-13 10:42:50-   INFO: End of conversion, obj machine is create [Pyleecan]"
   ]
  },
  {
   "cell_type": "markdown",
   "id": "41fd6487-6618-4243-b67b-16f272c5769a",
   "metadata": {},
   "source": [
    "## Converter architecture"
   ]
  },
  {
   "cell_type": "markdown",
   "id": "0d437d4a-5430-4d28-92b8-dc0f92a51fad",
   "metadata": {},
   "source": [
    "### Class presentation"
   ]
  },
  {
   "cell_type": "markdown",
   "id": "66b00a78-9725-4aee-bf0b-e2142a5d3128",
   "metadata": {},
   "source": [
    "#### Class Converter"
   ]
  },
  {
   "cell_type": "markdown",
   "id": "88547c17-c4b6-4bf3-93e1-7d53e6423cf7",
   "metadata": {},
   "source": [
    "In this abstract class, we have variable use to convert, and different general methods. In fact, if you want to create an other converter you can reuse this methods."
   ]
  },
  {
   "cell_type": "markdown",
   "id": "72b70dff-1b0b-4851-91a2-380930c46d55",
   "metadata": {},
   "source": [
    "#### ConverterMC"
   ]
  },
  {
   "cell_type": "markdown",
   "id": "4e6fa29c-2b31-48c9-bd12-8ee04b901f83",
   "metadata": {},
   "source": [
    "Contrary to convert, this class has all methods specific at Motor-CAD. We have all rules, and methods convert, and particularity. And ConvertMC inherits from Convert."
   ]
  },
  {
   "cell_type": "markdown",
   "id": "c39106d4",
   "metadata": {},
   "source": [
    "![](Images/UML_convert.png)"
   ]
  },
  {
   "cell_type": "markdown",
   "id": "80a03b3d-b26e-4248-9a41-92aa5e54f1db",
   "metadata": {},
   "source": [
    "#### Rule"
   ]
  },
  {
   "cell_type": "markdown",
   "id": "82d856f0-35fa-4aef-9b40-903c2009a784",
   "metadata": {},
   "source": [
    "In this abstract class, you can find methods to select or set value in dict or in obj machine."
   ]
  },
  {
   "cell_type": "markdown",
   "id": "53a9eef4-5cc0-418d-9712-be5e2ca9e577",
   "metadata": {},
   "source": [
    "#### RuleComplex"
   ]
  },
  {
   "cell_type": "markdown",
   "id": "62eb613d-ac3f-4a9e-941a-ede651bb5793",
   "metadata": {},
   "source": [
    "RuleComplex inherits from Rule, this class works with functions who handles special cases "
   ]
  },
  {
   "cell_type": "markdown",
   "id": "eb9833c6-9d15-4265-87f1-4f74a2da4764",
   "metadata": {},
   "source": [
    "#### RuleSimple"
   ]
  },
  {
   "cell_type": "markdown",
   "id": "7230e2c5-a5b0-4e01-979b-07df69b93948",
   "metadata": {},
   "source": [
    "RuleSimple inherits from Rule, this class is use to equivalent parameter with just a multiplicator between param motor-cad and Pyleecan. "
   ]
  },
  {
   "cell_type": "markdown",
   "id": "638354a5-d278-4d6a-bd6d-8d3640a9c4a5",
   "metadata": {},
   "source": [
    "#### RuleEquation"
   ]
  },
  {
   "cell_type": "markdown",
   "id": "668e2bd8-11e2-4778-9146-3ebd485704cc",
   "metadata": {},
   "source": [
    "RuleEquation inherits from Rule, this class is use if equivalent between parameter motor-cad and Pyleecan is more difficult but can be solve with an equation. And if equation is complex, we can choose a RuleComplex."
   ]
  },
  {
   "cell_type": "markdown",
   "id": "6f97b6a8",
   "metadata": {},
   "source": [
    "![](Images/UML_rules.png)"
   ]
  },
  {
   "cell_type": "markdown",
   "id": "e22f129f-ba9d-46c9-a260-eeeccbd8ada9",
   "metadata": {},
   "source": [
    "### Architecture presentation"
   ]
  },
  {
   "cell_type": "markdown",
   "id": "77fd37a3",
   "metadata": {},
   "source": [
    "L'architecture du convertisseur va suivre l'interface Pyleecan. En effet, l'interface de pyleecan est composée de différente étape qui permet de définir la machine.\n",
    "\n",
    "![](Images/Selection_machine.png)"
   ]
  },
  {
   "cell_type": "markdown",
   "id": "76588684",
   "metadata": {},
   "source": [
    "Par exemple pour définir la Toyota_Prius, on définit : <br>\n",
    "    - Machine type  <br>\n",
    "    - Machine Dimensions<br>\n",
    "    - Stator Slot<br>\n",
    "    - ...<br>\n",
    "\n",
    "Dans chacune de ces étapes, nous définisons les paramètres. Dans l'exemple ci-dessous, pour la Machine Dimensions, on va définir la longueur du stator, du rotor... \n",
    "\n",
    "![](Images/Machine_dimension.png)"
   ]
  },
  {
   "cell_type": "markdown",
   "id": "19a11d63",
   "metadata": {},
   "source": [
    "Le convertisseur va donc reproduire ces étapes de définitions pour définir la machine. \n",
    "L'objectif étant de pouvoir garder l'architecture si l'on souhaite refaire un convertisseur avec un autre logiciel.\n",
    "\n",
    "C'est pourquoi le convertisseur est composé de 2 classes:\n",
    "- la classe convert va contenir l'ensemble des méthodes qui peuvent être réutilisable par n'importe quelle convertisseur.\n",
    "- la classe convertMC est spécifique à la conversion vers Pyleecan <-> motor-cad, elle devra être réécrite pour chaque convertisseur.\n",
    "\n",
    "\n",
    "Fonctionnement du convertisseur :\n",
    "\n",
    "On va commencer par sélectionner le type de machine.\n",
    "Puis en fonction du type de machine nous allons appeler d'autre sélection, suivant l'ordre de linterface pyleecan. Le schéma suivant illustre l'enchainement des séléctions.\n",
    "L'ensemble des méthode effectuant la sélection commence par \"select\". Elles sont toutes dans la class Convert.\n",
    "L'objectif de ces méthodes est d'appeler les bonnes règles en fonction des besoins et d'orienter vers les autres fichiers de selection.\n",
    "\n",
    "Les séléctions dans ces méthodes sont effectué à partir de l'objet machine de Pyleecan, pour garder la possibilité de réutiliser ces méthodes. Cependant, pour avoir toujours cette séléctions possible, des méthodes spécifiques au convertisseur (présent dans la classes convertMC) sont nécessaire. \n",
    "\n",
    "Ces méthodes commencent par \"convert\" vont permettre de définir la machine en lui ajoutant ces grandes étapes (ces différentes classes), on a par exemple le type de machine, le type de slot, le type de notch...\n",
    "\n",
    "![](Images/schematics_architecture_converter.png)"
   ]
  },
  {
   "cell_type": "markdown",
   "id": "7d6e6ad0",
   "metadata": {},
   "source": [
    "Nous avons donc en fonction de la selection d'autre selection (d'autre step) comme ci-dessus:\n",
    "L'objectif étant d'arriver au moment où l'on puisse ajouter des règles. Pour cela, il faut soit être très précis comme savoir le type de slot, soit si la règle peut être généralisé par exemple les dimensions pour toutes les SCIM.\n",
    "\n",
    "\n",
    "Nous arrivons donc aux règles, durant ce parcour les règles sont ajouté dans un ordre précis dans une liste nommmée rules_list.\n",
    "\n",
    "A la fin de la sélection initier par la fonction selection_machine_rules nous nous retrouvons avec une liste de règle.\n",
    "Nous allons donc convertir l'ensemble des règles et les ajouter dans l'objet machine. Cette conversion utilise le polymorphisme car en effet, il existe 3 types de règle :\n",
    "- règle Simple qui permet de passer d'un paramètre à un autre avec seulement un multiplicateur (ex radius<->diameter)\n",
    "- règle Equation qui permet de passer d'un paramètre à un autre mais en impliquant d'autre paramètre ou des conversion complex\n",
    "(ex: y = a+2b -3x) \n",
    "- règle Complexe qui traite les autres situations, ces situations sont traité dans des fonctions spécifique.\n",
    "\n",
    "On a donc finalement l'ensemble des règles qui sont traité, et implémenté dans l'objet machine. Ainsi la conversion sera terminée, avec l'objet complètement définie."
   ]
  },
  {
   "cell_type": "markdown",
   "id": "1a1cdab0",
   "metadata": {},
   "source": [
    "Pour simplifier le convertisseur, un dictionnaire est créé à partir du fichier .mot.\n",
    "\n",
    "Le fichier .mot est composé de différente partie commençant par un titre entre crochet ex [Dimensions] et après une liste de valeur. <br>\n",
    "ex : \n",
    "```yaml\n",
    "[Dimensions]\n",
    "Stator_Lam_Dia=130\n",
    "Stator_Bore=80\n",
    "Airgap=1\n",
    "\n",
    "[Design_Options]\n",
    "BPM_Rotor=Surface_Radial\n",
    "Top_Bar=Round\n",
    "Bottom_Bar=Rectangular\n",
    "```\n",
    "\n",
    "On va donc reproduire cette architecture dans un dictionnaire, comprenant des dictionnaires comme vous pouvez le voir ci-dessous.<br>\n",
    "\n",
    "On a reproduit la même organisation que le fichier .mot, pour simplifier l'accès aux paramètres.\n",
    "\n",
    "```python\n",
    "other_dict = {\n",
    "    \"[Dimensions]\" : { \n",
    "        \"Stator_Lam_Dia\" : 130,\n",
    "        \"Stator_Bore\" : 80,\n",
    "        \"Airgap\" : 1,\n",
    "    },\n",
    "    \"[Design_Options]\" : {\n",
    "        \"BPM_Rotor\" : \"Surface_Radial\",\n",
    "        \"Top_Bar\" : \"Round\",\n",
    "        \"Bottom_Bar\" : \"Rectangular\",\n",
    "    },\n",
    "}\n",
    "```"
   ]
  },
  {
   "cell_type": "markdown",
   "id": "293680ca",
   "metadata": {},
   "source": [
    "On a reproduit la même organisation que le fichier .mot, pour simplifier l'accès aux paramètres.\n",
    "\n",
    "![](Images/convert_mot_to_dict.png)"
   ]
  },
  {
   "cell_type": "markdown",
   "id": "9cf1dcc7",
   "metadata": {},
   "source": [
    "Comme on a un objet machine, on peut le sauvegarder en .json, ou load le .json en machine.\n",
    "Car le convertisseur peut effectuer les 2 sens de conversion. Et le fonctionnement du convertisseur ne change pas en fonction du sens.\n",
    "\n"
   ]
  },
  {
   "cell_type": "markdown",
   "id": "79389fd6",
   "metadata": {},
   "source": [
    "Voici ci-dessous l'oragnisation des fichiers du convertisseur dans les différentes classes :\n",
    "![](Images/structure_converter.png)"
   ]
  }
 ],
 "metadata": {
  "kernelspec": {
   "display_name": "Python 3 (ipykernel)",
   "language": "python",
   "name": "python3"
  },
  "language_info": {
   "codemirror_mode": {
    "name": "ipython",
    "version": 3
   },
   "file_extension": ".py",
   "mimetype": "text/x-python",
   "name": "python",
   "nbconvert_exporter": "python",
   "pygments_lexer": "ipython3",
   "version": "3.8.10"
  }
 },
 "nbformat": 4,
 "nbformat_minor": 5
}
