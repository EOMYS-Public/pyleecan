{
 "cells": [
  {
   "cell_type": "markdown",
   "metadata": {},
   "source": [
    "# Version information"
   ]
  },
  {
   "cell_type": "code",
   "execution_count": null,
   "metadata": {},
   "outputs": [],
   "source": [
    "from datetime import date\n",
    "print(\"Running date:\", date.today().strftime(\"%B %d, %Y\"))\n",
    "import pyleecan\n",
    "print(\"Pyleecan version:\" + pyleecan.__version__)\n",
    "import SciDataTool\n",
    "print(\"SciDataTool version:\" + SciDataTool.__version__)"
   ]
  },
  {
   "cell_type": "markdown",
   "metadata": {},
   "source": [
    "# How to define a simulation to call FEMM\n",
    "\n",
    "This tutorial shows the different steps to **compute magnetic flux and electromagnetic torque** with Pyleecan **automated coupling with FEMM**. This tutorial was tested with the release [21Apr2019 of FEMM](http://www.femm.info/wiki/Download). Please note that the coupling with FEMM is only available on Windows. \n",
    "\n",
    "The notebook related to this tutorial is available on [GitHub](https://github.com/Eomys/pyleecan/tree/master/Tutorials/tuto_Simulation_FEMM.ipynb).\n",
    "\n",
    "Every electrical machine defined in Pyleecan can be automatically drawn in FEMM to compute torque, airgap flux and electromotive force.\n",
    "\n",
    "## Defining or loading the machine\n",
    "\n",
    "The first step is to define the machine to simulate. For this tutorial we use the Toyota Prius 2004 machine defined in [this tutorial](https://www.pyleecan.org/tuto_Machine.html)."
   ]
  },
  {
   "cell_type": "code",
   "execution_count": null,
   "metadata": {},
   "outputs": [],
   "source": [
    "%matplotlib notebook\n",
    "\n",
    "# Load the machine\n",
    "from os.path import join\n",
    "from pyleecan.Functions.load import load\n",
    "from pyleecan.definitions import DATA_DIR\n",
    "\n",
    "IPMSM_A = load(join(DATA_DIR, \"Machine\", \"Toyota_Prius.json\"))\n",
    "IPMSM_A.plot()"
   ]
  },
  {
   "cell_type": "markdown",
   "metadata": {},
   "source": [
    "## Simulation definition\n",
    "### Inputs\n",
    "\n",
    "The simulation is defined with a [**Simu1**](http://www.pyleecan.org/pyleecan.Classes.Simu1.html) object. This object corresponds to a simulation with 5 sequential physics (or modules):\n",
    "- electrical  \n",
    "- magnetic  \n",
    "- force  \n",
    "- structural  \n",
    "- acoustic  \n",
    "\n",
    "Each physics/modules can have several models to solve them. For now pyleecan includes:\n",
    "- an Electrical model for PMSM machine with FEMM\n",
    "- a Magnetic model with FEMM for all machines\n",
    "- a Force model (Maxwell Tensor)\n",
    "- Magnetic and Structural models with GMSH/Elmer\n",
    "\n",
    "[**Simu1**](http://www.pyleecan.org/pyleecan.Classes.Simu1.html) object enforces a weak coupling between each physics: the input of each physic is the output of the previous one.\n",
    "\n",
    "The Magnetic physics is defined with the object [**MagFEMM**](https://www.pyleecan.org/pyleecan.Classes.MagFEMM.html) and the other physics are deactivated (set to None). \n",
    "\n",
    "We define the starting point of the simulation with an [**InputCurrent**](http://www.pyleecan.org/pyleecan.Classes.InputCurrent.html) object to enforce the electrical module output with:\n",
    "- angular and the time discretization  \n",
    "- rotor speed  \n",
    "- stator currents  "
   ]
  },
  {
   "cell_type": "code",
   "execution_count": null,
   "metadata": {},
   "outputs": [],
   "source": [
    "from os.path import join\n",
    "\n",
    "from numpy import ones, pi, array, linspace, cos, sqrt\n",
    "\n",
    "from pyleecan.Classes.Simu1 import Simu1\n",
    "from pyleecan.Classes.InputCurrent import InputCurrent\n",
    "from pyleecan.Classes.MagFEMM import MagFEMM\n",
    "\n",
    "# Create the Simulation\n",
    "simu_femm = Simu1(name=\"FEMM_simulation\", machine=IPMSM_A)   \n",
    "p = simu_femm.machine.stator.winding.p\n",
    "qs = simu_femm.machine.stator.winding.qs\n",
    "\n",
    "# Defining Simulation Input\n",
    "simu_femm.input = InputCurrent()\n",
    "\n",
    "# Rotor speed [rpm]\n",
    "simu_femm.input.N0 = 2000\n",
    "\n",
    "# time discretization [s]\n",
    "time = linspace(start=0, stop=60/simu_femm.input.N0, num=32*p, endpoint=False) # 32*p timesteps\n",
    "simu_femm.input.time = time \n",
    "\n",
    "# Angular discretization along the airgap circonference for flux density calculation\n",
    "simu_femm.input.angle = linspace(start = 0, stop = 2*pi, num=2048, endpoint=False) # 2048 steps \n",
    "\n",
    "# Stator currents as a function of time, each column correspond to one phase [A]\n",
    "I0_rms = 250/sqrt(2) \n",
    "felec = p * simu_femm.input.N0 /60 # [Hz]\n",
    "rot_dir = simu_femm.machine.stator.comp_mmf_dir()\n",
    "Phi0 = 140*pi/180  # Maximum Torque Per Amp\n",
    "\n",
    "Ia = (\n",
    "    I0_rms\n",
    "    * sqrt(2)\n",
    "    * cos(2 * pi * felec * time + 0 * rot_dir * 2 * pi / qs + Phi0)\n",
    ")\n",
    "Ib = (\n",
    "    I0_rms\n",
    "    * sqrt(2)\n",
    "    * cos(2 * pi * felec * time + 1 * rot_dir * 2 * pi / qs + Phi0)\n",
    ")\n",
    "Ic = (\n",
    "    I0_rms\n",
    "    * sqrt(2)\n",
    "    * cos(2 * pi * felec * time + 2 * rot_dir * 2 * pi / qs + Phi0)\n",
    ")\n",
    "simu_femm.input.Is = array([Ia, Ib, Ic]).transpose()"
   ]
  },
  {
   "cell_type": "markdown",
   "metadata": {},
   "source": [
    "In this example stator currents are enforced as a function of time for each phase. Sinusoidal current can also be defined with Id/Iq as explained in [this tutorial](https://www.pyleecan.org/tuto_Operating_point.html).\n",
    "\n",
    "### MagFEMM configuration\n",
    "For the configuration of the Magnetic module, we use the object [**MagFEMM**](https://www.pyleecan.org/pyleecan.Classes.MagFEMM.html) that computes the airgap flux density by calling FEMM. The model parameters are set though the properties of the [**MagFEMM**](https://www.pyleecan.org/pyleecan.Classes.MagFEMM.html) object. In this tutorial we will present the main ones, the complete list is available by looking at [**Magnetics**](http://www.pyleecan.org/pyleecan.Classes.Magnetics.html) and [**MagFEMM**](http://www.pyleecan.org/pyleecan.Classes.MagFEMM.html) classes documentation.\n",
    "\n",
    "*type_BH_stator* and *type_BH_rotor* enable to select how to model the B(H) curve of the laminations in FEMM. The material parameters and in particular the B(H) curve are setup directly [in the machine lamination material](https://www.pyleecan.org/tuto_Machine.html). "
   ]
  },
  {
   "cell_type": "code",
   "execution_count": null,
   "metadata": {},
   "outputs": [],
   "source": [
    "from pyleecan.Classes.MagFEMM import MagFEMM\n",
    "\n",
    "simu_femm.mag = MagFEMM(\n",
    "    type_BH_stator=0, # 0 to use the material B(H) curve, \n",
    "                      # 1 to use linear B(H) curve according to mur_lin,\n",
    "                      # 2 to enforce infinite permeability (mur_lin =100000)\n",
    "    type_BH_rotor=0,  # 0 to use the material B(H) curve, \n",
    "                      # 1 to use linear B(H) curve according to mur_lin,\n",
    "                      # 2 to enforce infinite permeability (mur_lin =100000)\n",
    "    file_name = \"\", # Name of the file to save the FEMM model\n",
    ")\n",
    "\n",
    "# Only the magnetic module is defined\n",
    "simu_femm.elec = None\n",
    "simu_femm.force = None\n",
    "simu_femm.struct = None "
   ]
  },
  {
   "cell_type": "markdown",
   "metadata": {},
   "source": [
    "Pyleecan coupling with FEMM enables to define the machine with symmetry and with sliding band to optimize the computation time. The angular periodicity of the machine will be computed and (in the particular case) only 1/8 of the machine will be drawn (4 symmetries + antiperiodicity):"
   ]
  },
  {
   "cell_type": "code",
   "execution_count": null,
   "metadata": {},
   "outputs": [],
   "source": [
    "simu_femm.mag.is_periodicity_a=True"
   ]
  },
  {
   "cell_type": "markdown",
   "metadata": {},
   "source": [
    "The same is done for time periodicity only half of one electrical period is calculated (i.e: 1/8 of mechanical period):"
   ]
  },
  {
   "cell_type": "code",
   "execution_count": null,
   "metadata": {},
   "outputs": [],
   "source": [
    "simu_femm.mag.is_periodicity_t=True"
   ]
  },
  {
   "cell_type": "markdown",
   "metadata": {},
   "source": [
    "Pyleecan enable to parallelize the call to FEMM by simply setting:"
   ]
  },
  {
   "cell_type": "code",
   "execution_count": null,
   "metadata": {},
   "outputs": [],
   "source": [
    "simu_femm.mag.nb_worker = 4  # Number of FEMM instances to run at the same time (1 by default)"
   ]
  },
  {
   "cell_type": "markdown",
   "metadata": {},
   "source": [
    "At the end of the simulation, the mesh and the solution can be saved in the **Output** object with:"
   ]
  },
  {
   "cell_type": "code",
   "execution_count": null,
   "metadata": {},
   "outputs": [],
   "source": [
    "simu_femm.mag.is_get_meshsolution = True # To get FEA mesh for latter post-procesing\n",
    "simu_femm.mag.is_save_meshsolution_as_file = False # To save FEA results in a dat file"
   ]
  },
  {
   "cell_type": "markdown",
   "metadata": {},
   "source": [
    "## Run simulation"
   ]
  },
  {
   "cell_type": "code",
   "execution_count": null,
   "metadata": {},
   "outputs": [],
   "source": [
    "out_femm = simu_femm.run()"
   ]
  },
  {
   "cell_type": "markdown",
   "metadata": {},
   "source": [
    "When running the simulation, an FEMM window runs in background. You can open it to see pyleecan drawing the machine and defining the surfaces. \n",
    "![](https://www.pyleecan.org/_static/IPMSM_FEMM.png)\n",
    "The simulation will compute 32*p/8 different timesteps by updating the current and the sliding band boundary condition. If the parallelization is activated (simu_femm.mag.nb_worker >1) then the time steps are computed out of order.\n",
    "\n",
    "Once the simulation is finished, an Output object is return. The results are stored in the magnetic part of the output (i.e. _out_femm.mag_ ) and different plots can be called. This _out_femm.mag_ contains:   \n",
    "- *Time*: magnetic time axis  \n",
    "- *Angle*: magnetic position  \n",
    "- *B*: airgap flux density (contains radial and tangential components)   \n",
    "- *Tem*: electromagnetic torque   \n",
    "- *Tem_av*: average electromagnetic torque\n",
    "- *Tem_rip_pp* : Peak to Peak Torque ripple\n",
    "- *Tem_rip_norm*: Peak to Peak Torque ripple normalized according to average torque   \n",
    "- *Phi_wind_stator*: stator winding flux   \n",
    "- *emf*: electromotive force  \n",
    "\n",
    "Some of these properties are \"Data objects\" from the [SciDataTool](https://github.com/Eomys/SciDataTool) project. These object enables to handle unit conversion, interpolation, fft, periodicity... \n",
    "\n",
    "## Plot results\n",
    "**Output** object embbed different plots to visualize results easily. A dedicated tutorial is available [here](https://www.pyleecan.org/tuto_Plots.html).\n",
    "\n",
    "For instance, the radial and tangential magnetic flux in the airgap at a specific timestep can be plotted with:"
   ]
  },
  {
   "cell_type": "code",
   "execution_count": null,
   "metadata": {},
   "outputs": [],
   "source": [
    "# Radial magnetic flux \n",
    "out_femm.mag.B.plot_2D_Data(\"angle\",\"time[1]\",component_list=[\"radial\"])\n",
    "out_femm.mag.B.plot_2D_Data(\"wavenumber=[0,76]\",\"time[1]\",component_list=[\"radial\"])"
   ]
  },
  {
   "cell_type": "code",
   "execution_count": null,
   "metadata": {},
   "outputs": [],
   "source": [
    "# Tangential magnetic flux \n",
    "out_femm.mag.B.plot_2D_Data(\"angle\",\"time[1]\",component_list=[\"tangential\"])\n",
    "out_femm.mag.B.plot_2D_Data(\"wavenumber=[0,76]\",\"time[1]\",component_list=[\"tangential\"])"
   ]
  },
  {
   "cell_type": "markdown",
   "metadata": {},
   "source": [
    "The torque can be plotted with:"
   ]
  },
  {
   "cell_type": "code",
   "execution_count": null,
   "metadata": {
    "scrolled": true
   },
   "outputs": [],
   "source": [
    "out_femm.mag.Tem.plot_2D_Data(\"time\")"
   ]
  },
  {
   "cell_type": "markdown",
   "metadata": {},
   "source": [
    "One can notice that the torque matrix includes the periodicity (only the meaningful part is stored)"
   ]
  },
  {
   "cell_type": "code",
   "execution_count": null,
   "metadata": {},
   "outputs": [],
   "source": [
    "print(out_femm.mag.Tem.values.shape)\n",
    "print(simu_femm.input.Nt_tot)"
   ]
  },
  {
   "cell_type": "markdown",
   "metadata": {},
   "source": [
    "If the mesh was saved in the output object (mySimu.mag.is_get_meshsolution = True), it can be plotted with:"
   ]
  },
  {
   "cell_type": "code",
   "execution_count": null,
   "metadata": {
    "tags": []
   },
   "outputs": [],
   "source": [
    "out_femm.mag.meshsolution.plot_contour(label=\"B\", group_names=\"stator core\")"
   ]
  },
  {
   "cell_type": "markdown",
   "metadata": {},
   "source": [
    "<div>\n",
    "<img src=\"https://www.pyleecan.org/_static/tuto_Simulation_FEMM_Bmesh.png\" width=\"800\"/>\n",
    "</div>"
   ]
  },
  {
   "cell_type": "markdown",
   "metadata": {},
   "source": [
    "Finally, it is possible to extend pyleecan by implementing new plot by using the results from output. For instance, the following plot requires plotly to display the radial flux density in the airgap over time and angle. "
   ]
  },
  {
   "cell_type": "code",
   "execution_count": null,
   "metadata": {},
   "outputs": [],
   "source": [
    "#%run -m pip install plotly # Uncomment this line to install plotly\n",
    "import plotly.graph_objects as go\n",
    "from plotly.offline import init_notebook_mode \n",
    "init_notebook_mode() \n",
    "\n",
    "result = out_femm.mag.B.components[\"radial\"].get_along(\"angle{°}\", \"time\")\n",
    "x = result[\"angle\"]\n",
    "y = result[\"time\"]\n",
    "z = result[\"B_r\"]\n",
    "fig = go.Figure(data=[go.Surface(z=z, x=x, y=y)])\n",
    "fig.update_layout( )\n",
    "fig.update_layout(title='Radial flux density in the airgap over time and angle',\n",
    "                  autosize=True,\n",
    "                  scene = dict(\n",
    "                      xaxis_title='Angle [°]',\n",
    "                      yaxis_title='Time [s]',\n",
    "                      zaxis_title='Flux [T]'\n",
    "                  ),\n",
    "                  width=700,\n",
    "                  margin=dict(r=20, b=100, l=10, t=100),\n",
    "                 )\n",
    "\n",
    "fig.show(config = {\"displaylogo\":False})"
   ]
  },
  {
   "cell_type": "code",
   "execution_count": null,
   "metadata": {},
   "outputs": [],
   "source": []
  }
 ],
 "metadata": {
  "celltoolbar": "Format de la Cellule Texte Brut",
  "kernelspec": {
   "display_name": "Python 3",
   "language": "python",
   "name": "python3"
  },
  "language_info": {
   "codemirror_mode": {
    "name": "ipython",
    "version": 3
   },
   "file_extension": ".py",
   "mimetype": "text/x-python",
   "name": "python",
   "nbconvert_exporter": "python",
   "pygments_lexer": "ipython3",
   "version": "3.8.6"
  }
 },
 "nbformat": 4,
 "nbformat_minor": 4
}
