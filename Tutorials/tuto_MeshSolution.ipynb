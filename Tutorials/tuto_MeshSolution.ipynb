{
 "cells": [
  {
   "cell_type": "markdown",
   "metadata": {},
   "source": [
    "# Version information"
   ]
  },
  {
   "cell_type": "code",
   "execution_count": null,
   "metadata": {},
   "outputs": [],
   "source": [
    "import sys\n",
    "sys.path.append(\"D:/GitHub/pyleecan-public\")\n",
    "\n",
    "from datetime import date\n",
    "print(\"Running date:\", date.today().strftime(\"%B %d, %Y\"))\n",
    "import pyleecan\n",
    "print(\"Pyleecan version:\" + pyleecan.__version__)\n",
    "import SciDataTool\n",
    "print(\"SciDataTool version:\" + SciDataTool.__version__)"
   ]
  },
  {
   "cell_type": "markdown",
   "metadata": {},
   "source": [
    "# How to use MeshSolution objects\n",
    "The MeshSolution module is the part of the code which allows to store, perform operation(s), and display data linked to a mesh. For example, the magnetostatic solution from FEMM is stored using this module.\n",
    "\n",
    "This tutorial shows the different possibilities allowed by the current features of the MeshSolution module. At the moment, it is mainly dedicated to store 2D electromagnetic fields computed with FEMM, but the goal is to generalize to any physics that could be included inside Pyleecan.\n",
    " \n",
    "The notebook related to this tutorial is available on [GitHub](https://github.com/Eomys/pyleecan/tree/master/Tutorials/tuto_MeshSolution.ipynb).\n",
    "\n",
    "This tutorial is for people who wish to understand in depth how this module works, and potentially contribute to the development of the code."
   ]
  },
  {
   "cell_type": "markdown",
   "metadata": {},
   "source": [
    "## Architecture\n",
    "The main class is the MeshSolution. It has two important attributes:\n",
    "- A list of instances of Mesh class. The Mesh class allows to store the parameters of the mesh (coordinates, connectivity ...).\n",
    "- A list of instances of Solution class. The Solution class allows to store solution field related to a mesh.\n",
    "\n",
    "Thus, the MeshSolution allows to make the link between the different kind of meshes and solutions.\n"
   ]
  },
  {
   "cell_type": "markdown",
   "metadata": {},
   "source": [
    "## Defining a Mesh object and plots\n",
    "\n",
    "At the moment, there are two different types of Mesh objects:\n",
    "- MeshMat class is designed to ease postprocessing. It enables access to important values (connectivity, nodes) and to defined interpolation methods. (numpy.array)\n",
    "- MeshVTK class is designed to ease vizualization, by relying on existing librairy pyvista.\n",
    "\n",
    "The bridge between the two type of class is available with dedicated convert methods. "
   ]
  },
  {
   "cell_type": "markdown",
   "metadata": {},
   "source": [
    "### Defining a MeshMat object\n",
    "\n",
    "Although every features should be automatically initialized/defined in Pyleecan, we are going to define by hand some of the objects in order to introduce the basics principle of the MeshSolution module."
   ]
  },
  {
   "cell_type": "code",
   "execution_count": null,
   "metadata": {},
   "outputs": [],
   "source": [
    "from pyleecan.Classes.MeshMat import MeshMat\n",
    "from pyleecan.Classes.NodeMat import NodeMat\n",
    "from pyleecan.Classes.CellMat import CellMat\n",
    "from pyleecan.Classes.MeshSolution import MeshSolution\n",
    "\n",
    "mesh = MeshMat(dimension=3)\n",
    "mesh.node = NodeMat()\n",
    "mesh.node.add_node([0, 0, 0])\n",
    "mesh.node.add_node([0, 1, 0])\n",
    "mesh.node.add_node([1, 0, 0])\n",
    "mesh.node.add_node([1, 1, 0])\n",
    "mesh.node.add_node([2, 1, 0])\n",
    "\n",
    "mesh.cell[\"triangle\"] = CellMat(nb_node_per_cell=3)\n",
    "mesh.add_cell([0, 1, 2], \"triangle\")\n",
    "mesh.add_cell([1, 2, 3], \"triangle\")\n",
    "mesh.add_cell([2, 3, 4], \"triangle\")\n",
    "\n",
    "MSol = MeshSolution(mesh=[mesh])\n",
    "MSol.group = {\"stator\":[0,1,2]}\n",
    "\n",
    "MSol.plot_mesh()"
   ]
  },
  {
   "cell_type": "markdown",
   "metadata": {},
   "source": [
    "## Defining a SolutionMat object and plot\n",
    "The MeshSolution object allows to make the link between data (such as FE results) and the corresponding mesh stored in a Mesh object. Thus, all the plot and post-processing methods should be available in the MeshSolution class.\n",
    "\n",
    "The main available post-processing are the plots (such as plot_contour and plot_glyph).\n",
    "\n",
    "Here is an example with plot_contour: a scalar field is defined by giving its values all points of the mesh. "
   ]
  },
  {
   "cell_type": "code",
   "execution_count": null,
   "metadata": {},
   "outputs": [],
   "source": [
    "import numpy as np\n",
    "from pyleecan.Classes.SolutionMat import SolutionMat\n",
    "\n",
    "field = np.array([[10, 11, 12, 13, 14]])\n",
    "my_solution = SolutionMat(\n",
    "    label=\"my_field\",\n",
    "    type_cell=\"point\",\n",
    "    field=field,\n",
    "    indice=[0, 1, 2, 3, 4],\n",
    "    axis_name=[\"time\", \"indice\"],\n",
    "    axis_size = [1, 5],\n",
    ")\n",
    "MSol.solution.append(my_solution)\n",
    "MSol.plot_contour()"
   ]
  },
  {
   "cell_type": "markdown",
   "metadata": {},
   "source": [
    "The notion of axis allows to correctly extract values as it would be with SciDataTool objects -> same way to call methods in SolutionMat/SolutionData/SolutionVector. \n",
    "\n",
    "Using SolutionMat, one can also defined a vector field by using an additional axis \"component\"."
   ]
  },
  {
   "cell_type": "code",
   "execution_count": null,
   "metadata": {},
   "outputs": [],
   "source": [
    "vector = np.ones((10,5,2))\n",
    "\n",
    "my_vec_solution = SolutionMat(\n",
    "    label=\"my_vector\",\n",
    "    type_cell=\"point\",\n",
    "    field=vector,\n",
    "    indice=[0, 1, 2, 3, 4], # optional if indice are sorted and starts from 0, but field size must match with the number of corresponding point/cell.\n",
    "    axis_name=[\"time\", \"indice\", \"component\"],\n",
    "    axis_size = [10, 5, 2],\n",
    ")\n",
    "MSol.solution.append(my_vec_solution)\n",
    "MSol.plot_glyph(label=\"my_vector\", is_point_arrow=True, factor=1/10)"
   ]
  },
  {
   "cell_type": "markdown",
   "metadata": {},
   "source": [
    "In this example, a 2D field is defined on a 3D mesh. Indeed, the mesh and the field have distinct \"dimension\" attributes. It enables to limit the memory space when possible. "
   ]
  },
  {
   "cell_type": "markdown",
   "metadata": {},
   "source": [
    "## Import an external Mesh\n",
    "\n",
    "At the moment, Pyleecan mainly relies on the meshio librairy to convert any type of mesh file into a .vtk which is readable by pyvista. Any contribution on this topic is welcome. However, we have recently added a method to import .unv files."
   ]
  },
  {
   "cell_type": "code",
   "execution_count": null,
   "metadata": {},
   "outputs": [],
   "source": [
    "#Convert to vtk with meshio\n",
    "from pyleecan.definitions import TEST_DIR\n",
    "from pyleecan.Classes.ImportMeshMat import ImportMeshMat\n",
    "import meshio\n",
    "from os.path import join\n",
    "test_obj = ImportMeshMat(\n",
    "    file_path=join(TEST_DIR, join(TEST_DIR, 'Data/Mesh/mesh_test_mixte.unv')),\n",
    ")\n",
    "mesh = test_obj.get_data()\n",
    "    \n",
    "# Import in Pyleecan with MeshVTK\n",
    "MS = MeshSolution(mesh=[mesh])\n",
    "MS.plot_mesh()"
   ]
  },
  {
   "cell_type": "markdown",
   "metadata": {},
   "source": [
    "# Demo with FEMM results\n",
    "The aim of this section is to show how MeshSolution object are used in Pyleecan to post-process FE results. "
   ]
  },
  {
   "cell_type": "code",
   "execution_count": null,
   "metadata": {},
   "outputs": [],
   "source": [
    "# Run the FEMM simulation such as in tuto_Simulation_FEMM\n",
    "import json\n",
    "from multiprocessing import cpu_count\n",
    "from os.path import join\n",
    "\n",
    "import matplotlib.pyplot as plt\n",
    "import numpy as np\n",
    "import pytest\n",
    "from numpy import array, ones, pi, zeros\n",
    "from pyleecan.Classes.ImportGenVectLin import ImportGenVectLin\n",
    "from pyleecan.Classes.ImportMatrixVal import ImportMatrixVal\n",
    "from pyleecan.Classes.InputCurrent import InputCurrent\n",
    "from pyleecan.Classes.MagFEMM import MagFEMM\n",
    "from pyleecan.Classes.Output import Output\n",
    "from pyleecan.Classes.Simu1 import Simu1\n",
    "from pyleecan.definitions import DATA_DIR\n",
    "from pyleecan.Functions.load import load\n",
    "from Tests import save_load_path, save_plot_path\n",
    "\n",
    "SPMSM_003 = load(join(DATA_DIR, \"Machine\", \"SPMSM_003.json\"))\n",
    "simu = Simu1(name=\"test_SIPMSM_003\", machine=SPMSM_003)\n",
    "\n",
    "# Definition of the enforced output of the electrical module\n",
    "N0 = 3000\n",
    "Is = ImportMatrixVal(\n",
    "    value=array(\n",
    "        [\n",
    "            [6.97244193e-06, 2.25353053e02, -2.25353060e02],\n",
    "            [-2.60215295e02, 1.30107654e02, 1.30107642e02],\n",
    "            [-6.97244208e-06, -2.25353053e02, 2.25353060e02],\n",
    "            [2.60215295e02, -1.30107654e02, -1.30107642e02],\n",
    "        ]\n",
    "    )\n",
    ")\n",
    "time = ImportGenVectLin(start=0, stop=0.015, num=4, endpoint=True)\n",
    "Na_tot = 1024\n",
    "\n",
    "simu.input = InputCurrent(\n",
    "    Is=Is,\n",
    "    Ir=None,  # No winding on the rotor\n",
    "    N0=N0,\n",
    "    time=time,\n",
    "    Na_tot=Na_tot,\n",
    "    angle_rotor_initial=0.5216 + pi,\n",
    ")\n"
   ]
  },
  {
   "cell_type": "markdown",
   "metadata": {},
   "source": [
    "To enable the FE results saving: is_get_mesh "
   ]
  },
  {
   "cell_type": "code",
   "execution_count": null,
   "metadata": {},
   "outputs": [],
   "source": [
    "# Definition of the magnetic simulation (no symmetry)\n",
    "simu.mag = MagFEMM(\n",
    "    type_BH_stator=1,\n",
    "    type_BH_rotor=1,\n",
    "    is_periodicity_a=True,\n",
    "    is_get_meshsolution=True,\n",
    "    nb_worker=cpu_count(),\n",
    ")\n",
    "out_femm = simu.run()"
   ]
  },
  {
   "cell_type": "markdown",
   "metadata": {},
   "source": [
    "Now, the magnetic FEA results can be plotted. Moreover, the solution can be extracted on a specific area. By default, the field is plotted on the first dimension of every additional axis (e.g. time)."
   ]
  },
  {
   "cell_type": "code",
   "execution_count": null,
   "metadata": {},
   "outputs": [],
   "source": [
    "out_femm.mag.meshsolution.plot_contour()"
   ]
  },
  {
   "cell_type": "code",
   "execution_count": null,
   "metadata": {},
   "outputs": [],
   "source": [
    "out_femm.mag.meshsolution.plot_contour(label=\"H\", group_names=\"stator core\")"
   ]
  },
  {
   "cell_type": "code",
   "execution_count": null,
   "metadata": {},
   "outputs": [],
   "source": [
    "out_femm.mag.meshsolution.plot_glyph(label=\"H\", group_names=\"stator winding\")"
   ]
  },
  {
   "cell_type": "code",
   "execution_count": null,
   "metadata": {
    "tags": []
   },
   "outputs": [],
   "source": [
    "out_femm.mag.meshsolution.plot_contour(label=\"B\", group_names=\"airgap\")"
   ]
  },
  {
   "cell_type": "markdown",
   "metadata": {},
   "source": [
    "The algorithm is even capable of extracting the interface between two groups:"
   ]
  },
  {
   "cell_type": "code",
   "execution_count": null,
   "metadata": {},
   "outputs": [],
   "source": [
    "out_femm.mag.meshsolution.plot_mesh(group_names=[\"stator core\", \"/\", \"airgap\", \"stator winding\"])"
   ]
  },
  {
   "cell_type": "markdown",
   "metadata": {},
   "source": [
    "Slices through addtional axes can be obtained using [SciDataTool](https://github.com/Eomys/SciDataTool) alike call. For example, if I want the magnetic field at the second time step:"
   ]
  },
  {
   "cell_type": "code",
   "execution_count": null,
   "metadata": {},
   "outputs": [],
   "source": [
    "out_femm.mag.meshsolution.plot_contour(\n",
    "    \"time[2]\",\n",
    "    label=\"H\",\n",
    "    save_path=join(save_plot_path, simu.name + \"_H_time2.png\"),\n",
    "    is_show_fig=False,\n",
    ")"
   ]
  },
  {
   "cell_type": "markdown",
   "metadata": {},
   "source": [
    "# Extract and post-process data\n",
    "\n",
    "Several methods have been developed for the MeshSolution class in order to load the results regardless of the type of objects. The main method of MeshSolution is get_field. The first arguments can be written similarly to [SciDataTool](https://github.com/Eomys/SciDataTool) call. For example if I want to get the magnetic flux density at the first time step after FEMM calculations:"
   ]
  },
  {
   "cell_type": "code",
   "execution_count": null,
   "metadata": {},
   "outputs": [],
   "source": [
    "B = out_femm.mag.meshsolution.get_field(\"time[0]\", \"indice\", \"component\", label='B')\n",
    "B.shape"
   ]
  },
  {
   "cell_type": "markdown",
   "metadata": {},
   "source": [
    "Another useful feature is the groups. The groups allows to define submeshes corresponding to subpart of the machine. A new MeshSolution object can be created from the group definition:"
   ]
  },
  {
   "cell_type": "code",
   "execution_count": null,
   "metadata": {},
   "outputs": [],
   "source": [
    "group_stator = out_femm.mag.meshsolution.get_group(\"stator core\")\n"
   ]
  },
  {
   "cell_type": "markdown",
   "metadata": {},
   "source": [
    "Then, the magnetic solution is filtered on the selected cells (triangular elements in this case). "
   ]
  },
  {
   "cell_type": "code",
   "execution_count": null,
   "metadata": {},
   "outputs": [],
   "source": [
    "B_s = group_stator.get_field(\"indice\", \"time\", \"component\", label='B')\n",
    "H_s = group_stator.get_field(\"indice\", \"time\", \"component\", label='H')\n",
    "H_s.shape"
   ]
  },
  {
   "cell_type": "markdown",
   "metadata": {},
   "source": [
    "The dimension of the field has been obviously reduced to the stator number of cells. Then, operations can be performed on the solution of this group, and plotted. It is worth noting that several type of Solution objects can co-exist in the same MeshSolution object."
   ]
  },
  {
   "cell_type": "code",
   "execution_count": null,
   "metadata": {},
   "outputs": [],
   "source": [
    "from pyleecan.Classes.SolutionMat import SolutionMat\n",
    "w_mag = np.multiply(B_s,H_s)/2\n",
    "\n",
    "my_vec_solution = SolutionMat(\n",
    "    label=\"w_mag\",\n",
    "    type_cell=\"triangle\",\n",
    "    field=w_mag,\n",
    "    axis_name=[\"indice\", \"time\", \"component\"],\n",
    "    axis_size = [5715, 4, 2],\n",
    ")\n",
    "group_stator.solution.append(my_vec_solution)\n",
    "group_stator.plot_contour(label=\"w_mag\")"
   ]
  },
  {
   "cell_type": "markdown",
   "metadata": {},
   "source": [
    "Operations can also be performed on the mesh."
   ]
  },
  {
   "cell_type": "code",
   "execution_count": null,
   "metadata": {},
   "outputs": [],
   "source": [
    "nodes_s = group_stator.get_mesh().get_node()\n",
    "nodes_s.shape"
   ]
  },
  {
   "cell_type": "markdown",
   "metadata": {},
   "source": [
    "Then, rotate the mesh"
   ]
  },
  {
   "cell_type": "code",
   "execution_count": null,
   "metadata": {},
   "outputs": [],
   "source": [
    "th = np.pi/2\n",
    "R = np.array([[np.cos(th), -np.sin(th)], [np.sin(th), np.cos(th)]])\n",
    "nodes_s = np.dot(nodes_s, R)\n",
    "group_stator.mesh[0].node.coordinate = nodes_s\n",
    "group_stator.plot_mesh()"
   ]
  },
  {
   "cell_type": "markdown",
   "metadata": {},
   "source": [
    "Previous plots still work !"
   ]
  },
  {
   "cell_type": "code",
   "execution_count": null,
   "metadata": {},
   "outputs": [],
   "source": [
    "group_stator.plot_contour(label=\"w_mag\")"
   ]
  },
  {
   "cell_type": "markdown",
   "metadata": {},
   "source": [
    "Thanks for following this tutorial ! :-)"
   ]
  }
 ],
 "metadata": {
  "celltoolbar": "Format de la Cellule Texte Brut",
  "kernelspec": {
   "display_name": "Python 3",
   "language": "python",
   "name": "python3"
  },
  "language_info": {
   "codemirror_mode": {
    "name": "ipython",
    "version": 3
   },
   "file_extension": ".py",
   "mimetype": "text/x-python",
   "name": "python",
   "nbconvert_exporter": "python",
   "pygments_lexer": "ipython3",
   "version": "3.8.6"
  },
  "metadata": {
   "interpreter": {
    "hash": "f87a1742c31bcd4fe0807e1229d9e4a7354423055ef91ba2f983302ffaee9702"
   }
  }
 },
 "nbformat": 4,
 "nbformat_minor": 4
}
